{
 "cells": [
  {
   "cell_type": "code",
   "execution_count": null,
   "id": "8d7c753b",
   "metadata": {},
   "outputs": [],
   "source": [
    "import pandas as pd\n",
    "import glob\n",
    "import os\n",
    "\n",
    "# Folder where your CSV files are stored\n",
    "input_folder = \"./\"\n",
    "\n",
    "# Serial numbers to keep\n",
    "serial_numbers_to_keep = cols  # change as needed\n",
    "\n",
    "# Get all CSV files in the folder\n",
    "csv_files = glob.glob(os.path.join(input_folder, \"*.csv\"))\n",
    "\n",
    "for file in csv_files:\n",
    "    # Read CSV safely (handle encoding issues)\n",
    "    try:\n",
    "        df = pd.read_csv(file, encoding='latin1')\n",
    "    except UnicodeDecodeError:\n",
    "        df = pd.read_csv(file, encoding='cp1252')\n",
    "\n",
    "    # Filter rows\n",
    "    df_filtered = df[df['Index'].isin(serial_numbers_to_keep)]\n",
    "\n",
    "    # Create new filename\n",
    "    base, ext = os.path.splitext(file)\n",
    "    new_filename = f\"{base}_filtered{ext}\"\n",
    "\n",
    "    # Save filtered data\n",
    "    df_filtered.to_csv(new_filename, index=False, encoding='utf-8-sig')\n",
    "\n",
    "    print(f\"✅ Saved filtered file: {new_filename}\")\n",
    "\n",
    "print(\"\\nAll files processed successfully!\")\n"
   ]
  },
  {
   "cell_type": "code",
   "execution_count": null,
   "id": "1e98f1f5",
   "metadata": {},
   "outputs": [],
   "source": [
    "import pandas as pd\n",
    "import numpy as np"
   ]
  },
  {
   "cell_type": "code",
   "execution_count": null,
   "id": "2e7287a1",
   "metadata": {},
   "outputs": [],
   "source": []
  },
  {
   "cell_type": "code",
   "execution_count": null,
   "id": "2464217d",
   "metadata": {},
   "outputs": [],
   "source": []
  }
 ],
 "metadata": {
  "kernelspec": {
   "display_name": "CrimeDash",
   "language": "python",
   "name": "python3"
  },
  "language_info": {
   "name": "python",
   "version": "3.14.0"
  }
 },
 "nbformat": 4,
 "nbformat_minor": 5
}
